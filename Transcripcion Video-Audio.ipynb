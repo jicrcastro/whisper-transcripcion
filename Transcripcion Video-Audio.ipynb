{
 "cells": [
  {
   "cell_type": "code",
   "execution_count": 1,
   "metadata": {},
   "outputs": [],
   "source": [
    "import whisper\n",
    "import pandas as pd\n",
    "from whisper.utils import WriteTXT, WriteVTT, WriteSRT\n",
    "import os\n",
    "from datetime import datetime"
   ]
  },
  {
   "cell_type": "code",
   "execution_count": null,
   "metadata": {},
   "outputs": [],
   "source": [
    "model = whisper.load_model(\"medium\")\n",
    "result = model.transcribe(\"nombredelarchivo.mp4\")"
   ]
  },
  {
   "cell_type": "code",
   "execution_count": null,
   "metadata": {},
   "outputs": [],
   "source": [
    "pd.DataFrame(result['segments'])[['id', 'start', 'end', 'text']]"
   ]
  },
  {
   "cell_type": "code",
   "execution_count": 10,
   "metadata": {},
   "outputs": [],
   "source": [
    "output_dir = ''\n",
    "audio_basename = 'salida'\n",
    "\n",
    "# save TXT\n",
    "with open(os.path.join(output_dir, audio_basename + \".txt\"), \"w\", encoding=\"utf-8\") as txt_file: \n",
    "    for segment in result[\"segments\"]:\n",
    "        txt_file.write(segment[\"text\"] + \"\\n\")\n",
    "\n",
    "# save VTT\n",
    "with open(os.path.join(output_dir, audio_basename + \".vtt\"), \"w\", encoding=\"utf-8\") as vtt_file: \n",
    "    vtt_file.write(\"WEBVTT\")\n",
    "    for i, segment in enumerate(result[\"segments\"]):\n",
    "        start = datetime.fromtimestamp(segment[\"start\"]).strftime('%H:%M:%S.%f')[:-3]\n",
    "        end = datetime.fromtimestamp(segment[\"end\"]).strftime('%H:%M:%S.%f')[:-3]\n",
    "        vtt_file.write(str(i+1) + \"\\n\" + str(start) + \" --> \" + str(end) + \"\\n\" + segment[\"text\"] + \"\\n\\n\")\n",
    "\n",
    "# save SRT\n",
    "with open(os.path.join(output_dir, audio_basename + \".srt\"), \"w\", encoding=\"utf-8\") as srt_file: \n",
    "    for i, segment in enumerate(result[\"segments\"]):\n",
    "        start = datetime.strptime(datetime.utcfromtimestamp(segment[\"start\"]).strftime('%H:%M:%S.%f')[:-3], '%H:%M:%S.%f').strftime('%H:%M:%S,%f')[:-3]\n",
    "        end = datetime.strptime(datetime.utcfromtimestamp(segment[\"end\"]).strftime('%H:%M:%S.%f')[:-3], '%H:%M:%S.%f').strftime('%H:%M:%S,%f')[:-3]\n",
    "        srt_file.write(str(i+1) + \"\\n\" + str(start) + \" --> \" + str(end) + \"\\n\" + segment[\"text\"] + \"\\n\\n\")"
   ]
  }
 ],
 "metadata": {
  "kernelspec": {
   "display_name": "Python 3",
   "language": "python",
   "name": "python3"
  },
  "language_info": {
   "codemirror_mode": {
    "name": "ipython",
    "version": 3
   },
   "file_extension": ".py",
   "mimetype": "text/x-python",
   "name": "python",
   "nbconvert_exporter": "python",
   "pygments_lexer": "ipython3",
   "version": "3.11.3"
  },
  "orig_nbformat": 4
 },
 "nbformat": 4,
 "nbformat_minor": 2
}
